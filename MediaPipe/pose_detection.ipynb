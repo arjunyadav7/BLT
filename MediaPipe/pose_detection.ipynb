{
 "cells": [
  {
   "cell_type": "code",
   "execution_count": 10,
   "metadata": {},
   "outputs": [],
   "source": [
    "import cv2 as cv\n",
    "import mediapipe as mp\n",
    "import numpy as np\n",
    "mp_drawing = mp.solutions.drawing_utils\n",
    "mp_pose = mp.solutions.pose"
   ]
  },
  {
   "cell_type": "code",
   "execution_count": 11,
   "metadata": {},
   "outputs": [],
   "source": [
    "def calc_angle(a,b,c):\n",
    "    a,b,c = np.array(a), np.array(b), np.array(c)\n",
    "    ba = a-b\n",
    "    bc = c-b \n",
    "    dot_product = np.dot(ba,bc)\n",
    "    mag_ba = np.linalg.norm(ba)\n",
    "    mag_bc = np.linalg.norm(bc)\n",
    "    cos_theta = dot_product/(mag_ba*mag_bc)\n",
    "    angle_radian = np.arccos(cos_theta)\n",
    "    angle_deg = np.degrees(angle_radian)\n",
    "\n",
    "    if angle_deg>180:\n",
    "        angle_deg=360-angle_deg\n",
    "    return angle_deg"
   ]
  },
  {
   "cell_type": "code",
   "execution_count": 16,
   "metadata": {},
   "outputs": [],
   "source": [
    "cam = cv.VideoCapture(0)\n",
    "\n",
    "\n",
    "with mp_pose.Pose(min_detection_confidence=0.5, min_tracking_confidence=0.5) as pose:\n",
    "    while True:\n",
    "        ret, frame = cam.read()\n",
    "\n",
    "        # re-color image to RGB for processing by mediapipe\n",
    "        img = cv.cvtColor(frame, cv.COLOR_BGR2RGB)\n",
    "        # changing to read-only to reduce computation complexity\n",
    "        img.flags.writeable = False\n",
    "        results = pose.process(img) # processing to make detections\n",
    "        img.flags.writeable = True\n",
    "\n",
    "        #revert color back to BGR for OpenCV rendering\n",
    "        img = cv.cvtColor(img, cv.COLOR_RGB2BGR)\n",
    "\n",
    "        try:\n",
    "            landmarks = results.pose_landmarks.landmark\n",
    "            # calculating elbow angle b/w shoulder and wrist\n",
    "            shoulder = [landmarks[mp_pose.PoseLandmark.RIGHT_SHOULDER.value].x, landmarks[mp_pose.PoseLandmark.RIGHT_SHOULDER.value].y]\n",
    "            elbow = [landmarks[mp_pose.PoseLandmark.RIGHT_ELBOW.value].x, landmarks[mp_pose.PoseLandmark.RIGHT_ELBOW.value].y]\n",
    "            wrist = [landmarks[mp_pose.PoseLandmark.RIGHT_WRIST.value].x, landmarks[mp_pose.PoseLandmark.RIGHT_WRIST.value].y]\n",
    "            angle = calc_angle(shoulder, elbow, wrist)\n",
    "\n",
    "            # displaying the elbow angle in live-feed\n",
    "            location = tuple(np.multiply(elbow, [640,480]).astype(int))\n",
    "            cv.putText(img, str(angle), location, cv.FONT_HERSHEY_SIMPLEX, fontScale=0.5, color=(255,0,0), thickness=2)\n",
    "            \n",
    "            # print(landmarks)\n",
    "        except:\n",
    "            pass\n",
    "\n",
    "        mp_drawing.draw_landmarks(img, results.pose_landmarks, mp_pose.POSE_CONNECTIONS)        \n",
    "\n",
    "\n",
    "        cv.imshow(\"Webcam frame\",img)\n",
    "\n",
    "        if cv.waitKey(1) & 0xFF == ord(\"q\"):\n",
    "            break\n",
    "\n",
    "    cam.release()\n",
    "    cv.destroyAllWindows()\n",
    "\n"
   ]
  },
  {
   "cell_type": "code",
   "execution_count": 15,
   "metadata": {},
   "outputs": [
    {
     "data": {
      "text/plain": [
       "(480, 640, 3)"
      ]
     },
     "execution_count": 15,
     "metadata": {},
     "output_type": "execute_result"
    }
   ],
   "source": [
    "img.shape"
   ]
  },
  {
   "cell_type": "markdown",
   "metadata": {},
   "source": [
    "<img src=\"https://sigmoidal.ai/wp-content/uploads/2023/07/Pose-Landmarker-Model-1024x517.jpg\" style=\"height:300px\">"
   ]
  },
  {
   "cell_type": "code",
   "execution_count": null,
   "metadata": {},
   "outputs": [],
   "source": []
  }
 ],
 "metadata": {
  "kernelspec": {
   "display_name": "Python 3",
   "language": "python",
   "name": "python3"
  },
  "language_info": {
   "codemirror_mode": {
    "name": "ipython",
    "version": 3
   },
   "file_extension": ".py",
   "mimetype": "text/x-python",
   "name": "python",
   "nbconvert_exporter": "python",
   "pygments_lexer": "ipython3",
   "version": "3.11.9"
  }
 },
 "nbformat": 4,
 "nbformat_minor": 4
}
